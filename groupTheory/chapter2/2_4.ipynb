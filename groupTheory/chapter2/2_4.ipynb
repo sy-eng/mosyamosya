{
 "cells": [
  {
   "cell_type": "markdown",
   "id": "24a17bce",
   "metadata": {},
   "source": [
    "# 演習2.4.1\n",
    "## (1)\n",
    "36,-48の最大公約数を考える。\n",
    "-48は、48として考えて良い。\n",
    "\n",
    "ユークリッドの互除法を利用する。\n",
    "48>36なので、a=48,b=36とする。\n",
    "\n",
    "すると、$48=36 \\times 1 + 12, 36 = 12 \\times 3 + 0$なので、GCD(48,36)=12となる。\n",
    "\n",
    "最小公倍数を同様に48,36で考える。\n",
    "\n",
    "$48 = 2^4 \\times 3, 36 = 2^2 \\times 3^2$なので、$2^4 \\times 3^2 = 144$から、LCM(48, 36) = 144\n",
    "\n",
    "素因数分解できたのであれば、GCDもそれから見つけることもできる。\n",
    "\n",
    "## (2)\n",
    "GCD(35,24)をユークリッドの互除法を用いて、求める。\n",
    "\n",
    "$35 = 24 \\times 1 + 11, 24 = 11 \\times 2 + 2, 11 = 2 \\times 5 + 1, 2 = 1 \\times 2 + 0$から、GCD(35, 24) = 1となり、互いに素になる。"
   ]
  },
  {
   "cell_type": "markdown",
   "id": "2397be09",
   "metadata": {},
   "source": [
    "# 演習2.4.2\n",
    "## (1)\n",
    "ユークリッドの互除法を用いて、GCD(395, 265)を求める。\n",
    "$395 = 265 \\times 1 + 130, 265 = 130 \\times 2 + 5, 130 = 5 \\times 26 + 0$から、GCD(395, 265) = 5\n",
    "## (2)\n",
    "例2.4.11を踏まえる。\n",
    "\n",
    "$5 = 265 - 130 \\times 2 = 265 - 2 \\times (395 - 265) = 3 \\times 265 - 2 \\times 395$\n",
    "\n",
    "よって、x = -2, y = 3となる。"
   ]
  },
  {
   "cell_type": "markdown",
   "id": "30ceccd3",
   "metadata": {},
   "source": [
    "# 演習2.4.3\n",
    "## (1)\n",
    "系2.4.14の証明を利用する。\n",
    "\n",
    "n=7として、mは2から6までのすべてが、n=7と互いに素(7が素数)なので、mx+ny=1となるx,yが存在する。\n",
    "\n",
    "m=2に関して、$7 = 2 \\times 3 + 1$なので、$7 - 2 \\times 3 = 1$、つまり、x = -3になる。\n",
    "$x = -3 = -1 \\times 7 + 4$\n",
    "つまり、$\\overline{2}$の逆元は$\\overline{4}$になる。逆に、$\\overline{4}$の逆元は$\\overline{2}$になる。\n",
    "\n",
    "m=3に関して、$7 = 3 \\times 2 + 1$なので、$7 - 3 \\times 2 = 1$、つまり、x = -2になる。\n",
    "$x = -2 = -7 \\times 7 + 5$\n",
    "つまり、$\\overline{3}$の逆元は$\\overline{5}$になる。逆に、$\\overline{5}$の逆元は$\\overline{3}$になる。\n",
    "\n",
    "m=6に関しては、残りは6だけなので、$\\overline{6}$の逆元は$\\overline{6}$になる。\n",
    "実際、$\\overline{6} \\times \\overline{6} = \\overline{36} = \\overline{1}$となる。\n",
    "\n",
    "なお、$\\overline{1}$の乗法に関する逆元はこれが単位元であるため、$\\overline{1}$となる。\n",
    "## (2)\n",
    "(1)と同様に逆元を求める。\n",
    "\n",
    "まず、ユークリッドの互除法を用いて、284と3が互いに素であることを確認する。\n",
    "\n",
    "$284 = 3 \\times 94 + 2, 3 = 2 \\times 1 + 1$となり、互いに素であることが確認できる。\n",
    "\n",
    "$1 = 3 - 2 = 3 - (284 - 3 \\times 94) = 3 \\times 95 - 284$となり、x=95になる。\n",
    "$x = 95 = 284 \\times 0 + 95$\n",
    "つまり、$\\overline{3}$の逆元は$\\overline{95}$になる。"
   ]
  },
  {
   "cell_type": "markdown",
   "id": "cf15487b",
   "metadata": {},
   "source": [
    "# 演習2.4.4\n",
    "系2.4.14を利用する。\n",
    "\n",
    "$(\\mathbb{Z}/p^n\\mathbb{Z})^{\\times} = \\{\\overline{m} | 0 < m < n, m, nは互いに素\\}$\n",
    "\n",
    "つまり、$|(\\mathbb{Z}/p^n\\mathbb{Z})^{\\times}|$は$0 < m < p^n$で、$p^n$と互いに素なmの数になる。\n",
    "\n",
    "pが素数なので、mと$p^n$が互いに素でない場合は、mがpの倍数のときだけになる。$p^n$はpの倍数になるので、\n",
    "$0 < m \\leq p^n$で、pの倍数になるmの個数はp個に1個あるので、$p^{n-1}$になる。\n",
    "\n",
    "よって、$|(\\mathbb{Z}/p^n\\mathbb{Z})^{\\times}| = p^n - p^{n-1} = (p-1)p^{n-1}$"
   ]
  },
  {
   "cell_type": "markdown",
   "id": "f9b7da6b",
   "metadata": {},
   "source": [
    "# 演習2.4.5\n",
    "例2.4.20と同様に求める。\n",
    "\n",
    "dを$x^35$の位数とする。つまり、$(x^{35})^d = x^{35d} =1$となる、最小のd。\n",
    "\n",
    "また、xの位数は60なので、35dは60で割り切れることと同値になる。\n",
    "\n",
    "GCD(60, 35) = 5なので、上記は7dが12で割り切れることと同値になり、dが12で割り切れることと同値になる。\n",
    "\n",
    "dが正の最小の整数なので、位数d=12となる。"
   ]
  },
  {
   "cell_type": "code",
   "execution_count": null,
   "id": "9a63c9fc",
   "metadata": {},
   "outputs": [],
   "source": []
  }
 ],
 "metadata": {
  "kernelspec": {
   "display_name": "Python 3 (ipykernel)",
   "language": "python",
   "name": "python3"
  },
  "language_info": {
   "codemirror_mode": {
    "name": "ipython",
    "version": 3
   },
   "file_extension": ".py",
   "mimetype": "text/x-python",
   "name": "python",
   "nbconvert_exporter": "python",
   "pygments_lexer": "ipython3",
   "version": "3.9.6"
  }
 },
 "nbformat": 4,
 "nbformat_minor": 5
}
