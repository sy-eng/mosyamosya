{
 "cells": [
  {
   "cell_type": "markdown",
   "metadata": {},
   "source": [
    "# 2.10.1\n",
    "一般に$g \\in G$は$g \\neq 0$であり、かつ、$g = r \\times exp(i\\theta), r > 0$と記述される。$\\theta$については、$-\\pi \\leq \\theta < \\pi$などとされることが多いが、特に制限しなくても良い。\n",
    "\n",
    "さて、定理2.10.1における、$G,H,\\phi,Ker(\\phi)$について考える。\n",
    "この問でのGはGとして良い。$H, \\phi$は分からないが、$Ker(\\phi)=H_1$とすれば、$H$に相当する部分が、$G/{H_1}$と同型になる。\n",
    "$\\phi$は定理2.10.1にあるように準同型写像でなければならない。\n",
    "\n",
    "そのような準同型写像$\\phi$として、$g$に対して、上記の$r = |g|$を返す写像を考える。\n",
    "この写像が、準同型であることは定義2.5.1に従い、以下のように確認できる。\n",
    "gの積は一般の乗法なので$g = r_g exp(i \\theta_g),h  = r_h exp(i \\theta_h) \\in G$に対して、\n",
    "$\\phi(gh) = \\phi(r_g exp(i \\theta_g) r_h exp(i \\theta_h)) = \\phi(r_g r_h exp(i (\\theta_g + \\theta_g))) = r_g r_h$となり、\n",
    "$\\phi(g)\\phi(h) = \\phi(r_g exp(i \\theta_g))\\phi(r_g exp(i \\theta_g)) = r_g r_h$と等しくなる。\n",
    "よって、定義にある、$\\phi(gh) = \\phi(g)\\phi(h)$が確認された。\n",
    "\n",
    "$Im(\\phi)$を考えると$r > 0 \\in \\mathbb{R}$となり、これは$H_2$になる。つまり、定理2.10.1にある、Hは$H_2$になる。\n",
    "\n",
    "この$\\phi$に対して、$Ker(\\phi)$を考えると、$r$が1になる、$H_1$になる。\n",
    "よって、定理2.10.1にある$G/Ker(\\phi)$は$G/{H_1}$となり、$Im(\\phi) = H$、つまり、$H_2$に同型になる。$(G/{H_1} \\cong H_2)$\n",
    "\n",
    "次に、$Ker(\\phi)=H_2$とすれば、$H$に相当する部分が、$G/{H_2}$と同型になる。\n",
    "\n",
    "そのような準同型写像$\\phi$として、$g$に対して、上記の$exp(i \\theta)$を返す写像を考える。\n",
    "この写像が、準同型であることは定義2.5.1に従い、以下のように確認できる。\n",
    "gの積は一般の乗法なので$g = r_g exp(i \\theta_g),h  = r_h exp(i \\theta_h) \\in G$に対して、\n",
    "$\\phi(gh) = \\phi(r_g exp(i \\theta_g) r_h exp(i \\theta_h)) = \\phi(r_g r_h exp(i (\\theta_g + \\theta_g))) = exp(i (\\theta_g + \\theta_g))$となり、\n",
    "$\\phi(g)\\phi(h) = \\phi(r_g exp(i \\theta_g))\\phi(r_g exp(i \\theta_g)) = exp(i \\theta_g)exp(i \\theta_g) = exp(i (\\theta_g + \\theta_g))$と等しくなる。\n",
    "よって、定義にある、$\\phi(gh) = \\phi(g)\\phi(h)$が確認された。\n",
    "\n",
    "$Im(\\phi)$を考えると、これは$H_1$になる。(r=1で、$\\theta$は任意。)つまり、定理2.10.1にある、Hは$H_1$になる。\n",
    "\n",
    "この$\\phi$に対して、$Ker(\\phi)$を考えると、$exp(i \\theta)$が1になる、つまり、rだけが残るため、$H_2$になる。\n",
    "よって、定理2.10.1にある$G/Ker(\\phi)$は$G/{H_2}$となり、$Im(\\phi) = H$、つまり、$H_1$に同型になる。$(G/{H_2} \\cong H_1)$"
   ]
  },
  {
   "cell_type": "markdown",
   "metadata": {},
   "source": [
    "# 2.10.2\n",
    "定理2.10.1を使って、証明できるようにする。\n",
    "\n",
    "定理2.10.1でのGを$\\mathbb{R}$、Hを巻末のヒントにあるように$\\mathbb{R}/ a \\mathbb{Z}$、$Ker(\\phi)$も同様に\n",
    "$\\mathbb{Z}$となるように、準同型写像$\\phi$が設定できれば良い。\n",
    "\n",
    "$\\mathbb{R}/ a \\mathbb{Z}$は$[0, a) \\in \\mathbb{R}$となり、$x \\in $\\mathbb{R}/ a \\mathbb{Z}$について、\n",
    "$y = x + a\\mathbb{Z}$が同じxとして表される。\n",
    "\n",
    "よって、$g \\in \\mathbb{R}, x \\in \\mathbb{R}/ a \\mathbb{Z}$について、$x = ag + a\\mathbb{Z}$を$\\phi$として考える。\n",
    "すでにHが決まっているが、少なくとも、同値類の代表元で$a\\mathbb{Z}$の部分を0として、gを$0 \\leq g < 1$とすると、\n",
    "$\\phi$が$H = \\mathbb{R}/ a \\mathbb{Z}$への全射になっていることが確認できる。\n",
    "\n",
    "さらに、この$\\phi$が準同型であることを確認する。\n",
    "$g,h \\in G = \\mathbb{R}$が、$g = g' + az_g, h = h' + az_h, g', h' \\in [0, 1)$とすると、\n",
    "$\\phi(gh) = a(g' + az_g + h' + az_h) + a \\mathbb{Z} = a(g' + h') + a \\mathbb{Z}$となり、\n",
    "$\\phi(g)\\phi(h) = ag' + az_g + ah' + az_h = a(g' + h') + a \\mathbb{Z}$となるので、\n",
    "$\\phi(gh) = \\phi(g)\\phi(h)$が成り立つことが確認できる。\n",
    "\n",
    "G、H、準同型写像$\\phi$、$Ker(\\phi)$が決まり、定理2.10.1を適用すると、$\\mathbb{R}/ \\mathbb{Z} \\cong \\mathbb{R}/ a \\mathbb{Z}$がわかる。"
   ]
  },
  {
   "cell_type": "markdown",
   "metadata": {},
   "source": [
    "# 2.10.3\n",
    "定理2.10.1の準同型写像と見比べる。\n",
    "\n",
    "$G/H \\cong \\mathbb{R}^{\\times}$を示すには、$\\phi : G \\rightarrow \\mathbb{R}^{\\times}, Ker(\\phi) = H$となる、準同型写像が存在すればよい。\n",
    "\n",
    "2次元の正方行列で、対角成分がおなじになるときに$\\mathbb{R}^{\\times}$の単位元1になる写像を考えると、\n",
    "$$\n",
    "g = \n",
    "\\left(\\begin{array}{cc}\n",
    "a & 0 \\\\\n",
    "b & c \\\\\n",
    "\\end{array}\n",
    "\\right) \\in G\n",
    "$$\n",
    "に対して、$\\phi(g) = \\frac{a}{c}$を考える。対角成分が同じ行列$h \\in H$については、$a = c$となり、$\\phi(h) = 1$となる。\n",
    "\n",
    "これが、準同型写像であれば、$G/H \\cong \\mathbb{R}^{\\times}$を示せる。\n",
    "\n",
    "$$\n",
    "g = \n",
    "\\left(\\begin{array}{cc}\n",
    "a_g & 0 \\\\\n",
    "b_g & c_g \\\\\n",
    "\\end{array}\n",
    "\\right),\n",
    "h = \n",
    "\\left(\\begin{array}{cc}\n",
    "a_h & 0 \\\\\n",
    "b_h & c_h \\\\\n",
    "\\end{array}\n",
    "\\right)\n",
    " \\in G\n",
    "$$\n",
    "としたとき、\n",
    "$$\n",
    "\\phi(gh) = \\phi(\n",
    "\\left(\\begin{array}{cc}\n",
    "a_g a_h & 0 \\\\\n",
    "b_g a_h + c_g b_h & c_g c_h\\\\\n",
    "\\end{array}\n",
    "\\right)\n",
    ") = \\frac{a_g a_h}{c_g c_h}\n",
    "$$\n",
    "一方、$\\phi(g)\\phi(h) = \\frac{a_g}{c_g}\\frac{a_h}{c_h} = \\frac{a_g a_h}{c_g c_h}$\n",
    "となり、$\\phi(gh) = \\phi(g)\\phi(h)$により、準同型であることが確認できる。\n",
    "\n",
    "よって、$G/H \\cong \\mathbb{R}^{\\times}$が示せた。"
   ]
  },
  {
   "cell_type": "markdown",
   "metadata": {},
   "source": [
    "# 2.10.4\n",
    "例題2.10.12に類似の記述がある。\n",
    "\n",
    "Gは仮定より可換群なので、例2.8.2より、任意の部分群は正規部分群になる。\n",
    "\n",
    "定義2.6.19と仮定より、Hを指数nの部分群とすると、$|G/H| = (G:H) = n$となり、$G/H$の位数はnになる。\n",
    "\n",
    "$G/H$の元は$gH$と表されるが、ここで、積は+になるので、$g+H$となる。\n",
    "\n",
    "$g \\in G$なら、$ng \\in H$になる。(G/Hに関して、位数がnなので、命題2.4.18より、$0 = n(g + H) = ng + nH = ng + H$。よって、$ng \\in H$)\n",
    "\n",
    "よって、Hは$nG = \\{ ng | g \\in G \\}$を含む。"
   ]
  },
  {
   "cell_type": "markdown",
   "metadata": {},
   "source": [
    "# 2.10.5\n",
    "## (1)\n",
    "## (2)"
   ]
  },
  {
   "cell_type": "markdown",
   "metadata": {},
   "source": [
    "# 2.10.6\n",
    "巻末のヒントにあるように例題2.10.12を参考に考える。\n",
    "\n",
    "中国式剰余定理より、$G \\cong (\\mathbb{Z}/9\\mathbb{Z} \\times \\mathbb{Z}/5\\mathbb{Z}) \\times (\\mathbb{Z}/8\\mathbb{Z} \\times \\mathbb{Z}/3\\mathbb{Z}) \\times (\\mathbb{Z}/2\\mathbb{Z} \\times \\mathbb{Z}/7\\mathbb{Z})$である。\n",
    "Gは可換群なので、任意の部分群は正規部分群である。Hを指数2の部分群とする。G/Hは位数2の群なので、$\\mathbb{Z}/2\\mathbb{Z}$と同型である。よって、$g \\in G$なら、$2g \\in H$である。したがって、Hは$2G=\\{ 2g | g \\in G\\} = (2\\mathbb{Z}/9\\mathbb{Z} \\times 2\\mathbb{Z}/5\\mathbb{Z}) \\times (2\\mathbb{Z}/8\\mathbb{Z} \\times 2\\mathbb{Z}/3\\mathbb{Z}) \\times (2\\mathbb{Z}/2\\mathbb{Z} \\times 2\\mathbb{Z}/7\\mathbb{Z}) \\cong (\\mathbb{Z}/9\\mathbb{Z} \\times \\mathbb{Z}/5\\mathbb{Z}) \\times (\\mathbb{Z}/4\\mathbb{Z} \\times \\mathbb{Z}/3\\mathbb{Z}) \\times (1_G \\times \\mathbb{Z}/7\\mathbb{Z})$を含む。(この部分は演習2.10.4から求まる。)(定理2.10.2より、HはG/2Gの指数2の部分群と1対1に対応する。$\\mathbb{Z}/9\\mathbb{Z}, \\mathbb{Z}/7\\mathbb{Z},\\mathbb{Z}/5\\mathbb{Z},\\mathbb{Z}/3\\mathbb{Z}$に関して、2倍写像が全単射である。)このとき、$\\mathbb{Z}/4\\mathbb{Z}$のところに、$\\mathbb{Z}/8\\mathbb{Z}$の位数8の元(生成元)をかける、また、$1_G$のところに、$\\mathbb{Z}/2\\mathbb{Z}$の位数2の元(生成元)をかけるものが、$G/H$になるので、$G/2G \\cong \\mathbb{Z}/2\\mathbb{Z} \\times \\mathbb{Z}/2\\mathbb{Z}$である。\n",
    "\n",
    "$\\mathbb{Z}/2\\mathbb{Z} \\times \\mathbb{Z}/2\\mathbb{Z}$の位数は4なので、指数2の部分群は位数2の部分群と同じことである。Hが$\\mathbb{Z}/2\\mathbb{Z} \\times \\mathbb{Z}/2\\mathbb{Z}$の位数2の部分群なら、単位元以外の元は1つしかなく、それは、$\\mathbb{Z}/2\\mathbb{Z} \\times \\mathbb{Z}/2\\mathbb{Z}$の位数2の元である。逆に位数2の元は位数2の部分群を生成する。0以外の元の位数は2なので、それは3個ある。したがって、Gの指数2の部分群の個数は3である。"
   ]
  },
  {
   "cell_type": "markdown",
   "metadata": {},
   "source": [
    "# 2.10.7\n",
    "## (1)\n",
    "## (2)"
   ]
  },
  {
   "cell_type": "markdown",
   "metadata": {},
   "source": [
    "# 2.10.8\n",
    "## (1)\n",
    "## (2)\n",
    "## (3)\n",
    "## (4)\n",
    "## (5)"
   ]
  }
 ],
 "metadata": {
  "kernelspec": {
   "display_name": "Python 3.10.8 64-bit (microsoft store)",
   "language": "python",
   "name": "python3"
  },
  "language_info": {
   "name": "python",
   "version": "3.10.8"
  },
  "orig_nbformat": 4,
  "vscode": {
   "interpreter": {
    "hash": "b18d5b5f083c4208c51fccf000cd1fd7fa6d9e3fdd0de7430f15de44921ec4ab"
   }
  }
 },
 "nbformat": 4,
 "nbformat_minor": 2
}
