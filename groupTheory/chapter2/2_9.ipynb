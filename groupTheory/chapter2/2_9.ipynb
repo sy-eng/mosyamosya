{
 "cells": [
  {
   "cell_type": "markdown",
   "id": "27e9475e",
   "metadata": {},
   "source": [
    "# 2.9.1\n",
    "ここに関して、例2.9.5と同様にする。\n",
    "\n",
    "## (1)\n",
    "15を素因数分解すると$3 \\times 5$になる。\n",
    "よって、$\\mathbb{Z}/15\\mathbb{Z} = \\mathbb{Z} / 3\\mathbb{Z} \\times \\mathbb{Z} / 5\\mathbb{Z}$\n",
    "\n",
    "## (2)\n",
    "28を素因数分解すると$2^2 \\times 7 = 4 \\times 7$になる。\n",
    "よって、$\\mathbb{Z}/28\\mathbb{Z} = \\mathbb{Z} / 4\\mathbb{Z} \\times \\mathbb{Z} / 7\\mathbb{Z}$\n",
    "\n",
    "## (3)\n",
    "60を素因数分解すると$2^2 \\times 3 \\times 5 = 4 \\times 3 \\times 5$になる。\n",
    "よって、$\\mathbb{Z}/60\\mathbb{Z} = \\mathbb{Z} / 4\\mathbb{Z} \\times \\mathbb{Z} / 3\\mathbb{Z} \\times \\mathbb{Z} / 5\\mathbb{Z}$\n",
    "\n",
    "## (4)\n",
    "1400を素因数分解すると$2^3 \\times 5^2 \\times 7 = 8 \\times 25 \\times 7$になる。\n",
    "よって、$\\mathbb{Z}/1400\\mathbb{Z} = \\mathbb{Z} / 8\\mathbb{Z} \\times \\mathbb{Z} / 25\\mathbb{Z} \\times \\mathbb{Z} / 7\\mathbb{Z}$\n"
   ]
  },
  {
   "cell_type": "markdown",
   "id": "787bb2cf",
   "metadata": {},
   "source": [
    "# 2.9.2\n",
    "$\\phi$に関して、準同型なので$\\phi({g_1}_1, {g_2}_1)\\phi({g_1}_2, {g_2}_2) = \\phi({g_1}_1{g_1}_2, {g_2}_1{g_2}_2)$\n",
    "\n",
    "このとき、${g_2}_1, {g_2}_2 = 1_{G_2}$とすると、上記の式は、\n",
    "$\\phi({g_1}_1, 1_{G_2})\\phi({g_1}_2, 1_{G_2}) = \\phi({g_1}_1{g_1}_2, 1_{G_2})$となり、$\\phi_{G_1} \\equiv \\phi({g_1}, 1_{G_2})$とすれば、準同型になることがわかる。同様に、準同型$\\phi_{G_2} \\equiv \\phi(1_{G_1}, g_2)$がある。\n",
    "\n",
    "$G_1, G_2$は位数が$n_1, n_2$の有限群で、それらは互いに素である。$|G_1 \\times G_2| = n_1 n_2$になる。\n",
    "$g_1 \\in G_1$に関して、命題2.4.18より、$g_1$の位数は$n_1$の約数になり、$g_2 \\in G_2$に関しても、$n_2$の約数になる。\n",
    "\n",
    "$\\phi(g_1, 1_{G_2}) = (g_1', g_2')$の位数を考えると、$(g_1, 1)$の位数が、$g_1$の位数$|g_1|$になり、かつ、これは$n_1$の約数、演習2.5.3(1)より、$\\phi(g_1, 1_{G_2})$の位数は、$|g_1|$の約数、つまり$n_1$の約数になる。\n",
    "一方で、$(g_1', g_2')$の位数を考えると、$|g_1'||g_2'|$になるが、$|g_2'|$は$n_2$の約数になる。\n",
    "$n_1, n_2$が互いに素なので、$|g_2'|=1$とならなければならず、これは$g_2' = 1_{G_2}$でなければならない。\n",
    "つまり、準同型であれば、$\\phi(g_1, 1_{G_2} = (g_1', 1_{G_2}) = \\phi_{G_1}(g_1)$という形に限られる。\n",
    "同様に、$\\phi(1_{G_1}, g_2) = (1_{G_1}, g_2') = \\phi_{G_2}(g_2)$も言える。\n",
    "\n",
    "準同型なので、$\\phi({g_1}, {g_2}) = \\phi((g_1, 1_{G_2})(1_{G_1}, g_2)) = \\phi(g_1, 1_{G_2})\\phi(1_{G_1}, g_2) = \\phi_{G_1}(g_1)\\phi_{G_2}(g_2)$"
   ]
  },
  {
   "cell_type": "markdown",
   "id": "8b977408",
   "metadata": {},
   "source": [
    "# 2.9.3\n",
    "例題2.9.6と同じようにすれば良い。\n",
    "\n",
    "## (1)\n",
    "ここで、m = 8, n = 15, x = 5, y = 2になる。m,nは互いに素になっている。\n",
    "\n",
    "まず、ユークリッドの互除法でma+nb=1となる、a,bを求める。\n",
    "\n",
    "$15 = 8 \\times 1 + 7, 8 = 7 \\times 1 + 1$となるため、$1 = 8 - 7 \\times 1, 1 = 8 - (15 - 8 \\times 1) \\times 1 = 8 \\times 2 + 15 \\times (-1)$となるため、a = 2, b = -1となる。\n",
    "\n",
    "系2.9.4より、mで割ってx,nで割ってyがあまりになるzはz=may+nbxとなるため、$z=8\\times2\\times2+15\\times(-1)\\times5=-43$。\n",
    "\n",
    "mnの整数倍を足しても、m,nで割ってもあまりは変わらないので、(m,nが互いに素でなければ、mnよりも小さい数(mnを最大公約数で割ったものの整数倍)を足してもよい。)z=-43+120=77とすることができる。\n",
    "\n",
    "## (2)\n",
    "ここで、m=35,n=24,x=4,y=5になり、m,nは互いに素。\n",
    "\n",
    "ma+nb=1となるa,bは\n",
    "$35 = 24 \\times 1 + 11, 24 = 11 \\times 2 + 2, 11 = 2 \\times 5 + 1$となるため、$1 = 11 - 2 \\times 5 = 11 - (24 - 11 \\times 2) \\times 5 = 24 \\times (-5) + 11 \\times 11 = 24 \\times (-5) + (35 - 24 \\times 1) \\times 11 = 35 \\times 11 + 24 \\times (-16)$となり、a = 11, b = -16となる。\n",
    "\n",
    "よって、$z = 35 \\times 11 \\times 5 + 24 \\times (-16) \\times 4 = 389$。\n",
    "これは0より大きく、mn=840より小さいので、このままとしておく。(mnを足したり引いたりしても良い。)"
   ]
  }
 ],
 "metadata": {
  "kernelspec": {
   "display_name": "Python 3.10.6 64-bit (microsoft store)",
   "language": "python",
   "name": "python3"
  },
  "language_info": {
   "codemirror_mode": {
    "name": "ipython",
    "version": 3
   },
   "file_extension": ".py",
   "mimetype": "text/x-python",
   "name": "python",
   "nbconvert_exporter": "python",
   "pygments_lexer": "ipython3",
   "version": "3.10.8"
  },
  "vscode": {
   "interpreter": {
    "hash": "b18d5b5f083c4208c51fccf000cd1fd7fa6d9e3fdd0de7430f15de44921ec4ab"
   }
  }
 },
 "nbformat": 4,
 "nbformat_minor": 5
}
