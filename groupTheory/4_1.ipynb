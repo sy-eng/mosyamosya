{
 "cells": [
  {
   "attachments": {},
   "cell_type": "markdown",
   "metadata": {},
   "source": [
    "# 4.1.1\n"
   ]
  },
  {
   "attachments": {},
   "cell_type": "markdown",
   "metadata": {},
   "source": [
    "# 4.1.2"
   ]
  },
  {
   "attachments": {},
   "cell_type": "markdown",
   "metadata": {},
   "source": [
    "# 4.1.3"
   ]
  },
  {
   "attachments": {},
   "cell_type": "markdown",
   "metadata": {},
   "source": [
    "# 4.1.4"
   ]
  },
  {
   "attachments": {},
   "cell_type": "markdown",
   "metadata": {},
   "source": [
    "# 4.1.5"
   ]
  },
  {
   "attachments": {},
   "cell_type": "markdown",
   "metadata": {},
   "source": [
    "# 4.1.6\n",
    "## (1)\n",
    "$yxy^{-1} = x^3$、また、xは位数が7で$x^7 = 1_G$なので、\n",
    "$y^2xy^{-2} = y(yxy^{-1})y^{-1} = yx^3y^{-1} = yxy^{-1}yxy^{-1}yxy^{-1} = x^9 = x^2$\n",
    "同様に、$y^3xy^{-3} = y(y^2xy^{-2})y^{-1} = y x^2 y^{-1} = x^6$、\n",
    "$y^4xy^{-4} = y(y^3xy^{-3})y^{-1} = y x^6 y^{-1} = x^18 = x^4$、\n",
    "$y^5xy^{-5} = y(y^4xy^{-4})y^{-1} = y x^4 y^{-1} = x^12 = x^5$、\n",
    "$y^6xy^{-6} = y(y^5xy^{-5})y^{-1} = y x^5 y^{-1} = x^15 = x$、\n",
    "$y^7xy^{-7} = y(y^6xy^{-6})y^{-1} = y x y^{-1} = x^3$。\n",
    "これを踏まえると、$y^{100}xy^{-100} = y^{6 \\times 16 + 4}xy^{-(6 \\times 16 + 4)} = y^{4}xy^{-4} = x^4$。\n",
    "なお、$y^0xy^{-0} = x = y^6xy^{-6}$。\n",
    "## (2)\n",
    "(1)と同様に考える。\n",
    "$yxy^{-1} = x^5$、また、xは位数が7で$x^7 = 1_G$なので、\n",
    "$y^2xy^{-2} = y(yxy^{-1})y^{-1} = yx^5y^{-1} = x^25 = x^4$\n",
    "同様に、$y^3xy^{-3} = y(y^2xy^{-2})y^{-1} = y x^4 y^{-1} = x^20 = x^6$、\n",
    "$y^4xy^{-4} = y(y^3xy^{-3})y^{-1} = y x^6 y^{-1} = x^30 = x^2$、\n",
    "$y^5xy^{-5} = y(y^4xy^{-4})y^{-1} = y x^2 y^{-1} = x^3$、\n",
    "$y^6xy^{-6} = y(y^5xy^{-5})y^{-1} = y x^5 y^{-1} = x^15 = x$、\n",
    "$y^7xy^{-7} = y(y^6xy^{-6})y^{-1} = y x y^{-1} = x^5$。\n",
    "これを踏まえると、$y^{1000}xy^{-1000} = y^{6 \\times 166 + 4}xy^{-(6 \\times 166 + 4)} = y^{4}xy^{-4} = x^2$。\n",
    "なお、$y^0xy^{-0} = x = y^6xy^{-6}$。\n"
   ]
  },
  {
   "attachments": {},
   "cell_type": "markdown",
   "metadata": {},
   "source": [
    "# 4.1.7"
   ]
  },
  {
   "attachments": {},
   "cell_type": "markdown",
   "metadata": {},
   "source": [
    "# 4.1.8\n",
    "## (1)\n",
    "## (2)\n",
    "## (3)"
   ]
  },
  {
   "attachments": {},
   "cell_type": "markdown",
   "metadata": {},
   "source": [
    "# 4.1.9\n",
    "## (1)\n",
    "## (2)"
   ]
  },
  {
   "attachments": {},
   "cell_type": "markdown",
   "metadata": {},
   "source": [
    "# 4.1.10\n",
    "## (1)\n",
    "## (2)"
   ]
  },
  {
   "attachments": {},
   "cell_type": "markdown",
   "metadata": {},
   "source": [
    "# 4.1.11\n",
    "## (1)\n",
    "## (2)"
   ]
  },
  {
   "attachments": {},
   "cell_type": "markdown",
   "metadata": {},
   "source": [
    "# 4.1.12\n",
    "## (1)\n",
    "## (2)"
   ]
  },
  {
   "attachments": {},
   "cell_type": "markdown",
   "metadata": {},
   "source": [
    "# 4.1.13\n",
    "## (1)\n",
    "## (2)"
   ]
  },
  {
   "attachments": {},
   "cell_type": "markdown",
   "metadata": {},
   "source": [
    "# 4.1.14\n",
    "## (1)\n",
    "## (2)\n",
    "## (3)\n",
    "## (4)"
   ]
  },
  {
   "attachments": {},
   "cell_type": "markdown",
   "metadata": {},
   "source": [
    "# 4.1.15\n",
    "## (1)\n",
    "## (2)\n",
    "## (3)"
   ]
  },
  {
   "attachments": {},
   "cell_type": "markdown",
   "metadata": {},
   "source": [
    "# 4.1.16"
   ]
  },
  {
   "attachments": {},
   "cell_type": "markdown",
   "metadata": {},
   "source": [
    "# 4.1.17\n",
    "## (1)\n",
    "## (2)"
   ]
  },
  {
   "attachments": {},
   "cell_type": "markdown",
   "metadata": {},
   "source": [
    "# 4.1.18\n",
    "定理4.1.28の下の(1),(2),(3)を確認する。\n",
    "(1)について見ると、問題の(1)-(4)すべて、1を含んでいるので、満たす。\n",
    "(2)について見ると、(左辺) = |G| = 8の約数は、1,2,4,8になる。問題の(1)-(4)のうち、(1)が3を含み、\n",
    "これは約数でない。\n",
    "(3)について見ると、問題の(1)-(4)で右辺の1の数は1,2,4,6になり、これが、(左辺) = |G| = 8の約数でないと\n",
    "いけないが、(4)の6が約数でない。\n",
    "\n",
    "よって、(1),(4)が自明な考察で類等式でないことがわかる。"
   ]
  }
 ],
 "metadata": {
  "kernelspec": {
   "display_name": "Python 3",
   "language": "python",
   "name": "python3"
  },
  "language_info": {
   "name": "python",
   "version": "3.10.9 (tags/v3.10.9:1dd9be6, Dec  6 2022, 20:01:21) [MSC v.1934 64 bit (AMD64)]"
  },
  "orig_nbformat": 4,
  "vscode": {
   "interpreter": {
    "hash": "b18d5b5f083c4208c51fccf000cd1fd7fa6d9e3fdd0de7430f15de44921ec4ab"
   }
  }
 },
 "nbformat": 4,
 "nbformat_minor": 2
}
