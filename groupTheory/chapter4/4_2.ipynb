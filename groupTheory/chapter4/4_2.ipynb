{
 "cells": [
  {
   "attachments": {},
   "cell_type": "markdown",
   "metadata": {},
   "source": [
    "# 4.2.1\n",
    "4.2の冒頭と同じように行う。\n",
    "\n",
    "## (1)\n",
    "(1 5)(2)(3 8 4 6 10)(7 9)\n",
    "## (2)\n",
    "(1 6)(2 10 9 3 4)(5 8 7)"
   ]
  },
  {
   "attachments": {},
   "cell_type": "markdown",
   "metadata": {},
   "source": [
    "# 4.2.2\n",
    "例題4.2.7のように考える。\n",
    "\n",
    "## (1)\n",
    "例4.2.4のように考える。\n",
    "型を考えると、以下の5種類がある。\n",
    "\n",
    "(1, 1, 1, 1, 1), (2, 1, 1, 1), (3, 1, 1), (4, 1), (5), (2, 2, 1), (3, 2)\n",
    "\n",
    "定理4.2.3より、同じ共役類になることは型が同じことと同値なので、上記の型で例を上げれば、代表元になる。\n",
    "\n",
    "よって、共役類の代表元は\n",
    "\n",
    "1, (1 2), (1 2 3), (1 2 3 4), (1 2 3 4 5), (1 2)(3 4), (1 2 3)(4 5)\n",
    "\n",
    "## (2)\n",
    "例題4.2.7のように考える。\n",
    "\n",
    "(1)にて、$\\mathfrak{S}_5$の共役類の代表元を求めた。"
   ]
  },
  {
   "attachments": {},
   "cell_type": "markdown",
   "metadata": {},
   "source": [
    "# 4.2.3\n",
    "## (1)\n",
    "## (2)"
   ]
  },
  {
   "attachments": {},
   "cell_type": "markdown",
   "metadata": {},
   "source": [
    "# 4.2.4\n",
    "## (1)\n",
    "## (2)\n",
    "## (3)\n",
    "## (4)\n",
    "## (5)\n",
    "## (6)"
   ]
  },
  {
   "attachments": {},
   "cell_type": "markdown",
   "metadata": {},
   "source": [
    "# 4.2.5\n",
    "## (1)\n",
    "## (2)"
   ]
  },
  {
   "attachments": {},
   "cell_type": "markdown",
   "metadata": {},
   "source": [
    "# 4.2.6"
   ]
  },
  {
   "attachments": {},
   "cell_type": "markdown",
   "metadata": {},
   "source": [
    "# 4.2.7\n",
    "## (1)\n",
    "## (2)"
   ]
  },
  {
   "attachments": {},
   "cell_type": "markdown",
   "metadata": {},
   "source": [
    "# 4.2.8"
   ]
  },
  {
   "attachments": {},
   "cell_type": "markdown",
   "metadata": {},
   "source": [
    "# 4.2.9\n",
    "## (1)\n",
    "## (2)\n",
    "## (3)"
   ]
  },
  {
   "attachments": {},
   "cell_type": "markdown",
   "metadata": {},
   "source": [
    "# 4.2.10"
   ]
  }
 ],
 "metadata": {
  "kernelspec": {
   "display_name": "Python 3",
   "language": "python",
   "name": "python3"
  },
  "language_info": {
   "name": "python",
   "version": "3.10.9 (tags/v3.10.9:1dd9be6, Dec  6 2022, 20:01:21) [MSC v.1934 64 bit (AMD64)]"
  },
  "orig_nbformat": 4,
  "vscode": {
   "interpreter": {
    "hash": "b18d5b5f083c4208c51fccf000cd1fd7fa6d9e3fdd0de7430f15de44921ec4ab"
   }
  }
 },
 "nbformat": 4,
 "nbformat_minor": 2
}
