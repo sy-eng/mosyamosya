{
 "cells": [
  {
   "cell_type": "markdown",
   "metadata": {},
   "source": [
    "# 4.4.1\n",
    "部分群の列$G \\supset Z(G) \\supset {1}$を考える。\n",
    "系2.6.21より、|Z(G)|は|G|の約数なので、$|Z(G)| = p^{e'}, e' \\in N, 0 \\leq e' \\leq e$\n",
    "\n",
    "命題4.4.3より、p群であれば、$Z(G) \\neq \\{1_G\\}$。よって、$|Z(G)| = p^{e'}, e' \\in N, 0 < e' \\leq e$\n",
    "\n",
    "正規部分の定義、定義2.8.1と定義4.1.26の中心の定義より$Z(G) = G_1 \\triangleleft G_0 = G$。\n",
    "また、定義2.1.1(1)の単位元の定義より、$\\{1\\} = G_2 \\triangleleft G_0 = G$\n",
    "\n",
    "このとき$G_1/G_2=Z(G)/G_2$が$G_0/G_2$の中心に含まれれば、定義4.3.3(2)より冪零群になる。\n",
    "$G_2={1}$なので、結局、Z(G)がGの中心になるかを確認することになるが、$Z(G)$はGの中心なので、Gは中心になる。"
   ]
  }
 ],
 "metadata": {
  "language_info": {
   "name": "python"
  }
 },
 "nbformat": 4,
 "nbformat_minor": 2
}
