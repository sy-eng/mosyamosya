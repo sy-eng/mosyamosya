{
 "cells": [
  {
   "cell_type": "markdown",
   "metadata": {},
   "source": [
    "演習13.1が確率の乗法定理を利用して、(13.3)を求める問題かと思ったら、有向分離を使って求める問題だった。  \n",
    "それは回答にあるようにhead-to-tailで明らかなので、乗法定理を使って求めてみる。  \n",
    "N = 1のとき、(13.1)も(13.2)も$p(x_1) = p(x_1)$となり、明らか。  \n",
    "N = 2も同様に(13.1)も(13.2)も$p(x_1, x_2) = p(x_2|x_1)p(x_1)$となる。\n",
    "一応、N=3も検討し、それを帰納法に展開する。  \n",
    "(13.1)では\n",
    "$$\n",
    "p(x_1, x_2, x_3) = p(x_3 | x_2, x_1)p(x_2 | x_1)p(x_1)\n",
    "$$\n",
    "となり、(13.2)では、\n",
    "$$\n",
    "p(x_1, x_2, x_3) = p(x_3 | x_2)p(x_2 | x_1)p(x_1)\n",
    "$$\n",
    "となる。この2式は常に成り立つ((13.1)は常に成立。(13.2)は一次マルコフ連鎖の仮定により成立。)ので、$p(x_3 | x_2, x_1) = p(x_3 | x_2)$。  \n",
    "N = M - 1まで成立しているとすると、N = Mのときに、(13.1)は\n",
    "$$\n",
    "p(x_1, x_2, \\cdots, x_{M-1}, x_M) = p(x_M | x_{M-1}, \\cdots, x_1)p(x_{M-1} | x_{M-2}, \\cdots, x_1)\\cdots p(x_1)\n",
    "= p(x_M | x_{M-1}, \\cdots, x_1)p(x_{M-1} | x_{M-2})\\cdots p(x_1)\n",
    "$$\n",
    "(13.2)は\n",
    "$$\n",
    "p(x_1, x_2, \\cdots, x_{M-1}, x_M) = p(x_M | x_{M-1})p(x_{M-1} | x_{M-2})\\cdots p(x_1)\n",
    "= p(x_M | x_{M-1}, \\cdots, x_1)p(x_{M-1} | x_{M-2})\\cdots p(x_1)\n",
    "$$\n",
    "この2式が常に成立するので、N=Mでも、$p(x_M | x_{M-1}, \\cdots, x_1) = p(x_M | x_{M-1})$となる。  \n",
    "よって、すべてのN = nにて、\n",
    "$$\n",
    "p(x_n | x_{n-1}, \\cdots, x_1) = p(x_n | x_{n-1})\n",
    "$$\n",
    "2次マルコフ連鎖でも同様の話ができる。"
   ]
  },
  {
   "cell_type": "code",
   "execution_count": null,
   "metadata": {},
   "outputs": [],
   "source": []
  }
 ],
 "metadata": {
  "kernelspec": {
   "display_name": "Python 3",
   "language": "python",
   "name": "python3"
  },
  "language_info": {
   "codemirror_mode": {
    "name": "ipython",
    "version": 3
   },
   "file_extension": ".py",
   "mimetype": "text/x-python",
   "name": "python",
   "nbconvert_exporter": "python",
   "pygments_lexer": "ipython3",
   "version": "3.7.2"
  }
 },
 "nbformat": 4,
 "nbformat_minor": 4
}
