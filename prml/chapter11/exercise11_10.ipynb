{
 "cells": [
  {
   "cell_type": "markdown",
   "metadata": {},
   "source": [
    "t=0のときは$z^{(0)} = 0$なので、$E[z^{(0)}] = 0, E[{(z^{(0)})}^2] = 0$  \n",
    "同様に、t=1のときに、1/2の確率で、$z^{(1)} = z^{(0)} + 1$もしくは、$z^{(1)} = z^{(0)} - 1$になる。  \n",
    "そのため、$E[z^{(1)}] = \\frac{1}{4}(E[z^{(0)}] + 1) + \\frac{1}{2}E[z^{(0)}] + \\frac{1}{4}(E[z^{(0)}] - 1) = 0$。  \n",
    "同様に$E[z^{(t + 1)}] = \\frac{1}{4}(E[z^{(t)}] + 1) + \\frac{1}{2}E[z^{(t)}] + \\frac{1}{4}(E[z^{(t)}] - 1) = 0$なので、  \n",
    "T = tで$E[z^{(t)}] = 0$であれば、$E[z^{(t+1)}] = 0$。  \n",
    "\n",
    "同様に、分散に考えてみる。  \n",
    "t=1のとき、$E[{(z^{(1)})}^2] = \\frac{1}{4}{(0 + 1 - E[z^{(1)}])}^2 + \\frac{1}{2}{(0 - E[z^{(1)}])}^2 + \\frac{1}{4}{(0 - 1 - E[z^{(1)}])}^2 = \\frac{1}{2}$  \n",
    "T = tのときに$E[{(z^{(t)})}^2] = \\frac{t}{2} = \\sum_{z_t} p(z_t){z_t}^2$とする。\n",
    "T = t + 1のときに\n",
    "$$\n",
    "E[{(z^{(t + 1)})}^2] = \\sum_{z_t} (\\frac{1}{4}p(z_t){(z_t + 1)}^2 + \\frac{1}{2}p(z_t){z_t}^2 + \\frac{1}{4}p(z_t){(z_t - 1)}^2) = \\sum_{z_t} (p(z_t){z_t}^2 + \\frac{1}{2}p(z_t)) = \\sum_{z_t} p(z_t){z_t}^2 + \\sum_{z_t} \\frac{1}{2}p(z_t) = \\frac{t}{2} + \\frac{1}{2} = \\frac{t + 1}{2}\n",
    "$$"
   ]
  },
  {
   "cell_type": "code",
   "execution_count": null,
   "metadata": {},
   "outputs": [],
   "source": []
  }
 ],
 "metadata": {
  "kernelspec": {
   "display_name": "Python 3",
   "language": "python",
   "name": "python3"
  },
  "language_info": {
   "codemirror_mode": {
    "name": "ipython",
    "version": 3
   },
   "file_extension": ".py",
   "mimetype": "text/x-python",
   "name": "python",
   "nbconvert_exporter": "python",
   "pygments_lexer": "ipython3",
   "version": "3.7.2"
  }
 },
 "nbformat": 4,
 "nbformat_minor": 4
}
