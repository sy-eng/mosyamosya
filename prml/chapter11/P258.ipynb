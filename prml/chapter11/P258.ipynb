{
 "cells": [
  {
   "cell_type": "markdown",
   "metadata": {},
   "source": [
    "P.258にあるようにギブスサンプリングの各ステップで$p(z)$が不変(invariant)であることを示す。  \n",
    "そもそも、(11.38)の式は\n",
    "$$\n",
    "p^{(m+1)}(z^{(m+1)}) = \\sum_{z^{(m)}}p^{(m)}(z^{(m+1)} | z^{(m)})p^{(m)}(z^{(m)})\n",
    "$$\n",
    "となる。一般には確率分布はステップmによって、分布が異なる。($p^{(m)}, p^{(m+1)}$は引数が同じでも異なる事がある。)  \n",
    "また、均一マルコフ連鎖では$p^{(m-1)}(z^{(m)} = a | z^{(m-1)} = b) = p^{(m)}(z^{(m+1)} = a | z^{(m)} = b) = p(z^{(m+1)} = a | z^{(m)} = b)$となる。(分布pはmに依存しない)  \n",
    "均一マルコフ連鎖では(11.39)に記載されているように\n",
    "$$\n",
    "p^{(m)}(z^{(m)} = a (= z^{(m+1)})) = p^{(m+1)}(z^{(m+1)} = a) = \\sum_{z^{(m)}}p^{(m)}(z^{(m+1)} = a | z^{(m)})p^{(m)}(z^{(m)}) = \\sum_{z^{(m)}}p(z^{(m+1)} = a | z^{(m)})p^{(m)}(z^{(m)})\n",
    "$$\n",
    "が成立すれば、不変となる。  \n",
    "さて、ギブスサンプリングの前後(iもしくは$\\tau$が増える)でmが進むが、その際に、p(z)が変化しないことを示す。  \n",
    "検討するステップでは$z_i$のみ変化するので、${z_i}^{(m+1)} \\neq {z_i}^{(m)}$だが、${z_{\\backslash i}}^{(m+1)} = {z_{\\backslash i}}^{(m)}  = {z_{\\backslash i}}$。  \n",
    "また、サンプリングは常に正しい条件付き分布よりサンプリングされ、$z_{\\backslash i}$が決まれば、$z_i$の分布が決まるので\n",
    "$$\n",
    "p^{(m)}({z_i}^{(m+1)} = a | {z_{\\backslash i}}^{(m)}) = p^{(m-1)}({z_i}^{(m)} = a | {z_{\\backslash i}}^{(m-1)}) = p(z_i = a | {z_{\\backslash i}}) (= p^{(m)}({z_i}^{(m)} = a | {z_{\\backslash i}}^{(m)}))\n",
    "$$\n",
    "更に、$z_i$は一度捨てられて、サンプリングされるので、$p^{(m)}({z_i}^{(m+1)} = a | {z_{\\backslash i}}^{(m)}) = p^{(m)}({z_i}^{(m+1)} = a | z^{(m)})$  \n",
    "上記より、\n",
    "$$\n",
    "p^{(m+1)}(z^{(m+1)}) = p^{(m+1)}({z_i}^{(m+1)} = a, {z_{\\backslash i}}^{(m+1)}) = \n",
    "\\sum_{z^{(m)}}p^{(m)}({z_i}^{(m+1)} = a | z^{(m)})p^{(m)}(z^{(m)}) = \n",
    "\\sum_{z^{(m)}}p^{(m)}({z_i}^{(m+1)} = a | {z_{\\backslash i}}^{(m)})p^{(m)}(z^{(m)}) = \n",
    "\\sum_{{z_i}^{(m)}}p(z_i = a | z_{\\backslash i})p^{(m)}({z_i}^{(m)}, {z_{\\backslash i}}^{(m)}) =\n",
    "p(z_i = a | z_{\\backslash i})\\sum_{{z_i}^{(m)}}p^{(m)}({z_i}^{(m)}, z_{\\backslash i}) =\n",
    "p(z_i = a | z_{\\backslash i})p^{(m)}(z_{\\backslash i}) = \n",
    "p^{(m)}({z_i}^{(m)} = a | {z_{\\backslash i}}^{(m)})p^{(m)}(z_{\\backslash i}) = p^{(m)}({z_i}^{(m)} = a, {z_{\\backslash i}}^{(m)}) = p^{(m)}(z^{(m)})\n",
    "$$ \n",
    "よって、ギブスサンプリングでp(z)は不変。"
   ]
  },
  {
   "cell_type": "code",
   "execution_count": null,
   "metadata": {},
   "outputs": [],
   "source": []
  }
 ],
 "metadata": {
  "kernelspec": {
   "display_name": "Python 3",
   "language": "python",
   "name": "python3"
  },
  "language_info": {
   "codemirror_mode": {
    "name": "ipython",
    "version": 3
   },
   "file_extension": ".py",
   "mimetype": "text/x-python",
   "name": "python",
   "nbconvert_exporter": "python",
   "pygments_lexer": "ipython3",
   "version": "3.7.2"
  }
 },
 "nbformat": 4,
 "nbformat_minor": 4
}
